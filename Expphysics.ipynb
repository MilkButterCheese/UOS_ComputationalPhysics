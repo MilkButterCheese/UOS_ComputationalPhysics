{
  "nbformat": 4,
  "nbformat_minor": 0,
  "metadata": {
    "colab": {
      "name": "Expphysics.ipynb",
      "provenance": [],
      "mount_file_id": "1RZz-vQyA0spbh0wk4vfwGM3vrmDWVD2f",
      "authorship_tag": "ABX9TyMk3aaGVSsBXYDnt2GlolOH",
      "include_colab_link": true
    },
    "kernelspec": {
      "name": "python3",
      "display_name": "Python 3"
    },
    "language_info": {
      "name": "python"
    }
  },
  "cells": [
    {
      "cell_type": "markdown",
      "metadata": {
        "id": "view-in-github",
        "colab_type": "text"
      },
      "source": [
        "<a href=\"https://colab.research.google.com/github/MilkButterCheese/UOS_ComputationalPhysics/blob/master/Expphysics.ipynb\" target=\"_parent\"><img src=\"https://colab.research.google.com/assets/colab-badge.svg\" alt=\"Open In Colab\"/></a>"
      ]
    },
    {
      "cell_type": "code",
      "metadata": {
        "id": "I8lRDy-dDLjD"
      },
      "source": [
        "import numpy as np\n",
        "import matplotlib.pyplot as plt\n",
        "import sys\n",
        "sys.path.append('/content/drive/MyDrive/ComputatinalPhysics/myModules/')\n",
        "from scipy.integrate import quad, nquad\n",
        "from romberg import romberg\n",
        "from trapezoid import trapezoid\n",
        "from scipy.interpolate import CubicSpline\n",
        "from scipy.integrate import solve_ivp"
      ],
      "execution_count": null,
      "outputs": []
    },
    {
      "cell_type": "code",
      "metadata": {
        "colab": {
          "base_uri": "https://localhost:8080/",
          "height": 279
        },
        "id": "bxUIfYWaDZag",
        "outputId": "960a39e9-e7da-4b8f-b2af-5cd9b17b949c"
      },
      "source": [
        "Hex=np.array([399.0,446.7,471.1,491.9,501.8,586.2,666.3,705.0,725.5])\n",
        "Hey=np.array([40.8,214.1,60.6,105,219.4,255.0,255.0,255.0,98.0])*(100/255)\n",
        "\n",
        "Nex=np.array([585.3, 594.3, 608.7, 614.1, 625.8, 633.0, 639.3, 650.1, 667.2, 692.4, 702.3, 716.3, 723.9, 743.2])\n",
        "Ney=np.array([145.6, 139.1, 173.9, 217.9, 150.7, 180.6, 251.2, 203.6, 127.6, 133.9, 220.0, 14.7, 91.5, 12.9])*(100/255)\n",
        "\n",
        "Arx=np.array([696.0, 705.9, 714.0, 726.6, 737.4, 749.1, 762, 771.5, 740, 800, 809.2, 825.8, 841.1, 851.4])\n",
        "Ary=np.array([254.2,246.3,56.6,90.8,245.8,255.0,255.0,255.0,248.3,255,255,235.9,254.9,149.3])*(100/255)\n",
        "\n",
        "Hgx=np.array([404.2, 436.8, 544.7, 576.3])\n",
        "Hgy=np.array([215.5, 255.0, 255.0, 191.6])*(100/255)\n",
        "\n",
        "Krx=np.array([556.4,586.2,758.5, 767.9, 784.5, 809.7, 818.2, 829.0, 850.1, 877.0])\n",
        "Kry=np.array([45.9, 71.4, 255.0, 127.7, 99.5, 255.0, 174.4, 243.9, 41.6, 24.0])*(100/255)\n",
        "\n",
        "plt.xlabel('Frequency')\n",
        "plt.ylabel('Relative Intensity')\n",
        "plt.plot(Hex,Hey,'*',label='He')\n",
        "plt.plot(Nex,Ney,'o',label='Ne')\n",
        "plt.plot(Arx,Ary,'d',label='Ar')\n",
        "plt.plot(Hgx,Hgy,'x',label='Hg')\n",
        "plt.plot(Krx,Kry,'s',label='Kr')\n",
        "plt.legend()\n",
        "plt.show()"
      ],
      "execution_count": null,
      "outputs": [
        {
          "output_type": "display_data",
          "data": {
            "image/png": "[encoded data removed]",
            "text/plain": [
              "<Figure size 432x288 with 1 Axes>"
            ]
          },
          "metadata": {
            "tags": [],
            "needs_background": "light"
          }
        }
      ]
    }
  ]
}