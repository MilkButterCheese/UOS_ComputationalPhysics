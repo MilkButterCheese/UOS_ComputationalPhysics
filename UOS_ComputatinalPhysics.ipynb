{
  "nbformat": 4,
  "nbformat_minor": 0,
  "metadata": {
    "colab": {
      "name": "UOS_ComputatinalPhysics.ipynb",
      "provenance": [],
      "authorship_tag": "ABX9TyNmABkUPws1NM7zHZqMhEW0",
      "include_colab_link": true
    },
    "kernelspec": {
      "name": "python3",
      "display_name": "Python 3"
    },
    "language_info": {
      "name": "python"
    }
  },
  "cells": [
    {
      "cell_type": "markdown",
      "metadata": {
        "id": "view-in-github",
        "colab_type": "text"
      },
      "source": [
        "<a href=\"https://colab.research.google.com/github/MilkButterCheese/UOS_ComputationalPhysics/blob/master/UOS_ComputatinalPhysics.ipynb\" target=\"_parent\"><img src=\"https://colab.research.google.com/assets/colab-badge.svg\" alt=\"Open In Colab\"/></a>"
      ]
    },
    {
      "cell_type": "code",
      "metadata": {
        "colab": {
          "base_uri": "https://localhost:8080/"
        },
        "id": "gkZZLD4qWHej",
        "outputId": "83512220-7429-4c0a-b6b4-098e36d177f3"
      },
      "source": [
        "import numpy as np\n"
      ],
      "execution_count": null,
      "outputs": [
        {
          "output_type": "stream",
          "text": [
            "1.0\n"
          ],
          "name": "stdout"
        }
      ]
    }
  ]
}