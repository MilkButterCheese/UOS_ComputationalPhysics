{
  "nbformat": 4,
  "nbformat_minor": 0,
  "metadata": {
    "colab": {
      "name": "UOS_ComputatinalPhysics.ipynb",
      "provenance": [],
      "collapsed_sections": [],
      "mount_file_id": "1BWKMH7yu-qYA73OUhvS0MCwnKLhpfza8",
      "authorship_tag": "ABX9TyNR94BJH0bHfQD1W2XDlPQf",
      "include_colab_link": true
    },
    "kernelspec": {
      "name": "python3",
      "display_name": "Python 3"
    },
    "language_info": {
      "name": "python"
    }
  },
  "cells": [
    {
      "cell_type": "markdown",
      "metadata": {
        "id": "view-in-github",
        "colab_type": "text"
      },
      "source": [
        "<a href=\"https://colab.research.google.com/github/MilkButterCheese/UOS_ComputationalPhysics/blob/master/UOS_ComputatinalPhysics.ipynb\" target=\"_parent\"><img src=\"https://colab.research.google.com/assets/colab-badge.svg\" alt=\"Open In Colab\"/></a>"
      ]
    },
    {
      "cell_type": "code",
      "metadata": {
        "id": "gkZZLD4qWHej",
        "colab": {
          "base_uri": "https://localhost:8080/"
        },
        "outputId": "60fac562-375c-4998-bbd6-43f030218f7a"
      },
      "source": [
        "\n"
      ],
      "execution_count": null,
      "outputs": [
        {
          "output_type": "stream",
          "text": [
            "Cloning into 'UOS_ComputationalPhysics'...\n",
            "remote: Enumerating objects: 96, done.\u001b[K\n",
            "remote: Counting objects: 100% (96/96), done.\u001b[K\n",
            "remote: Compressing objects: 100% (74/74), done.\u001b[K\n",
            "remote: Total 96 (delta 29), reused 78 (delta 15), pack-reused 0\u001b[K\n",
            "Unpacking objects: 100% (96/96), done.\n"
          ],
          "name": "stdout"
        }
      ]
    }
  ]
}