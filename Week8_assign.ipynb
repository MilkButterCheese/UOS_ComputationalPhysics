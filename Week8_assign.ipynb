{
  "nbformat": 4,
  "nbformat_minor": 0,
  "metadata": {
    "colab": {
      "name": "Week8_assign.ipynb",
      "provenance": [],
      "collapsed_sections": [],
      "mount_file_id": "142MyyAbKyI_LVU9yxhnw3lf09-fH4dCe",
      "authorship_tag": "ABX9TyPyQsVjcHoIWCKzOUJRXOdy",
      "include_colab_link": true
    },
    "kernelspec": {
      "name": "python3",
      "display_name": "Python 3"
    },
    "language_info": {
      "name": "python"
    }
  },
  "cells": [
    {
      "cell_type": "markdown",
      "metadata": {
        "id": "view-in-github",
        "colab_type": "text"
      },
      "source": [
        "<a href=\"https://colab.research.google.com/github/MilkButterCheese/UOS_ComputationalPhysics/blob/master/Week8_assign.ipynb\" target=\"_parent\"><img src=\"https://colab.research.google.com/assets/colab-badge.svg\" alt=\"Open In Colab\"/></a>"
      ]
    },
    {
      "cell_type": "code",
      "metadata": {
        "colab": {
          "base_uri": "https://localhost:8080/",
          "height": 300
        },
        "id": "p644d0ERGzBX",
        "outputId": "31c459c4-22fd-47f4-cb5d-866b772c3181"
      },
      "source": [
        "import numpy as np\n",
        "import matplotlib.pyplot as plt\n",
        "from scipy.interpolate import UnivariateSpline\n",
        "import sys\n",
        "sys.path.append('/content/drive/MyDrive/ComputatinalPhysics/myModules')\n",
        "from scipy.optimize import root_scalar\n",
        "\n",
        "#Problem 1\n",
        "data= np.genfromtxt('/content/drive/MyDrive/ComputatinalPhysics/Week8/3.1_5.dat',delimiter=',')\n",
        "x=data[0,:]\n",
        "y=data[1,:]\n",
        "n=len(x)\n",
        "xx=np.linspace(x[0],x[-1],n*10)\n",
        "#보간법 사용하기\n",
        "f= UnivariateSpline(x,y)\n",
        "yy=f(xx)\n",
        "plt.plot(x,y,'*')\n",
        "plt.plot(xx,yy)\n",
        "#근 찾기\n",
        "def g(x):\n",
        "    return f(x) -1 \n",
        "dx=0.001    \n",
        "root1=rootsearch(g,0,2,dx)\n",
        "print(root1) #f(x)=1이되는 x=0.637\n",
        "print(f(0.637))"
      ],
      "execution_count": null,
      "outputs": [
        {
          "output_type": "stream",
          "text": [
            "(0.6370000000000005, 0.6380000000000005)\n",
            "0.9994979706604283\n"
          ],
          "name": "stdout"
        },
        {
          "output_type": "display_data",
          "data": {
            "image/png": "[encoded data removed]",
            "text/plain": [
              "<Figure size 432x288 with 1 Axes>"
            ]
          },
          "metadata": {
            "tags": [],
            "needs_background": "light"
          }
        }
      ]
    },
    {
      "cell_type": "code",
      "metadata": {
        "colab": {
          "base_uri": "https://localhost:8080/"
        },
        "id": "bkOYy4sCKxV8",
        "outputId": "898e6223-1b98-4a31-f876-64536ed1fa33"
      },
      "source": [
        "import numpy as np\n",
        "import matplotlib.pyplot as plt\n",
        "from scipy.interpolate import UnivariateSpline\n",
        "from  scipy.interpolate import CubicSpline\n",
        "import sys\n",
        "sys.path.append('/content/drive/MyDrive/ComputatinalPhysics/myModules')\n",
        "from ch3 import *\n",
        "from rootsearch import *\n",
        "from scipy.optimize import root_scalar\n",
        "\n",
        "# problem2\n",
        "# phi= pi일떄 V=pi*(r^2)*L로 꽉찬 상태. 따라서 3/4만큼 찾다는 식은\n",
        "# 3*pi/4 = phi-*(1-h/r) sin(phi)로 표현됨\n",
        "# t=h/r임\n",
        "def f(t):\n",
        "    phi= np.arccos(1-t)\n",
        "    return phi-(1-t)*np.sin(phi)-3*np.pi/4\n",
        "\n",
        "dx=0.001    \n",
        "root1=rootsearch(f,0,2,dx)\n",
        "print(root1) # t= h/r=1.4034\n",
        "\n"
      ],
      "execution_count": null,
      "outputs": [
        {
          "output_type": "stream",
          "text": [
            "(1.4029999999999563, 1.4039999999999562)\n"
          ],
          "name": "stdout"
        }
      ]
    },
    {
      "cell_type": "code",
      "metadata": {
        "colab": {
          "base_uri": "https://localhost:8080/",
          "height": 518
        },
        "id": "Cpb_oX_JQAiV",
        "outputId": "9e45f04c-8aa7-4e87-e25e-422368022024"
      },
      "source": [
        "import numpy as np\n",
        "import matplotlib.pyplot as plt\n",
        "from scipy.interpolate import UnivariateSpline\n",
        "from  scipy.interpolate import CubicSpline\n",
        "import sys\n",
        "sys.path.append('/content/drive/MyDrive/ComputatinalPhysics/myModules')\n",
        "from ch3 import *\n",
        "from rootsearch import *\n",
        "from scipy.optimize import root\n",
        "# problem3\n",
        "xdata= np.linspace(0,1.5,150)\n",
        "ydata= np.linspace(-5,20,1500)\n",
        "X, Y = np.meshgrid(xdata,ydata)\n",
        "#함수 정의하기\n",
        "def f1(x,y):\n",
        "    return np.tan(x)-y-1 \n",
        "\n",
        "def f2(x,y):\n",
        "    return np.cos(x)- 3* np.sin(y)\n",
        "\n",
        "F1=f1(X,Y)\n",
        "F2=f2(X,Y)\n",
        "#그래프 그리기\n",
        "fig=plt.figure()\n",
        "ax=fig.add_subplot(111)\n",
        "ax.set_aspect('equal')\n",
        "plt.contour(X,Y,F1,[0])\n",
        "plt.contour(X,Y,F2,[0])\n",
        "\n",
        "#root(func,xini)\n",
        "x0=[0,1]\n",
        "sol= root(func,x0)\n",
        "print(sol)\n",
        "#x=[0.88159259,1.32940213, 3.21855398]\n",
        "#y값구하기\n",
        "def g1(x):\n",
        "    return np.tan(x)-1    \n",
        "print(g1(0.88159259))\n",
        "print(g1(1.32940213))\n",
        "#y=[0.21359470345402465, 3.0618225964800194  ]\n",
        "\n",
        "#다시 검증하기\n",
        "print(f2(0.88159259,0.21359470345402465))\n",
        "print(f2(1.32940213,3.0618225964800194))\n"
      ],
      "execution_count": null,
      "outputs": [
        {
          "output_type": "stream",
          "text": [
            "    fjac: array([[-0.95259689,  0.30423539],\n",
            "       [-0.30423539, -0.95259689]])\n",
            "     fun: array([-9.99200722e-16,  1.88737914e-15])\n",
            " message: 'The solution converged.'\n",
            "    nfev: 14\n",
            "     qtf: array([ 3.82930077e-11, -3.56798519e-11])\n",
            "       r: array([-2.60865668,  0.08419698,  3.07496405])\n",
            "  status: 1\n",
            " success: True\n",
            "       x: array([0.88159259, 0.21359471])\n",
            "0.21359470345402465\n",
            "3.0618225964800194\n",
            "3.606473075734584e-08\n",
            "1.7807887706111636e-07\n"
          ],
          "name": "stdout"
        },
        {
          "output_type": "display_data",
          "data": {
            "image/png": "[encoded data removed]",
            "text/plain": [
              "<Figure size 432x288 with 1 Axes>"
            ]
          },
          "metadata": {
            "tags": [],
            "needs_background": "light"
          }
        }
      ]
    },
    {
      "cell_type": "code",
      "metadata": {
        "colab": {
          "base_uri": "https://localhost:8080/"
        },
        "id": "36ylhcxXZSdb",
        "outputId": "89940ad5-70fa-4583-9468-acee7b544db1"
      },
      "source": [
        "import numpy as np\n",
        "from scipy.optimize import fsolve\n",
        "# problem4\n",
        "# #함수 정의하기\n",
        "def equations(p):\n",
        "    x, y1 ,y2 ,y3 = p\n",
        "    f1= x*(-np.tan(y2)+np.tan(y1))-16\n",
        "    f2= x*(np.tan(y2)+np.tan(y3))-20\n",
        "    f3= -4*np.sin(y1)-6*np.sin(y2)+5*np.sin(y3)+3\n",
        "    f4= 4*np.cos(y1) +6*np.cos(y2) +5*np.cos(y3)-12\n",
        "    return (f1,f2,f3,f4)\n",
        "\n",
        "#근 찾기\n",
        "T,theta1,theta2,theta3 = fsolve(equations,(1,0.5,0.5,0.5))\n",
        "print(T,theta1,theta2,theta3)\n",
        "#[T1,theta1,theta2,theta3]=[17.888408954907284 0.9358027517346257 0.4334498815383086 0.5800495389897659]\n"
      ],
      "execution_count": null,
      "outputs": [
        {
          "output_type": "stream",
          "text": [
            "17.888408954907284 0.9358027517346257 0.4334498815383086 0.5800495389897659\n"
          ],
          "name": "stdout"
        }
      ]
    }
  ]
}